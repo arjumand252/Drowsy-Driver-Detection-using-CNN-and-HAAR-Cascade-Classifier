{
  "nbformat": 4,
  "nbformat_minor": 0,
  "metadata": {
    "colab": {
      "provenance": []
    },
    "kernelspec": {
      "name": "python3",
      "display_name": "Python 3"
    },
    "language_info": {
      "name": "python"
    }
  },
  "cells": [
    {
      "cell_type": "markdown",
      "source": [
        "# Imports and Dependencies"
      ],
      "metadata": {
        "id": "CPLEdG3gzMSO"
      }
    },
    {
      "cell_type": "code",
      "execution_count": null,
      "metadata": {
        "id": "m1MNxPu6USr6"
      },
      "outputs": [],
      "source": [
        "import tensorflow as tf\n",
        "import cv2\n",
        "import matplotlib.pyplot as plt\n",
        "import numpy as np\n",
        "from PIL import Image\n",
        "from google.colab.patches import cv2_imshow\n",
        "from tensorflow import keras\n",
        "from glob import glob\n",
        "from tqdm import tqdm\n",
        "from sklearn.model_selection import train_test_split"
      ]
    },
    {
      "cell_type": "code",
      "source": [
        "!unzip EyeData.zip"
      ],
      "metadata": {
        "colab": {
          "base_uri": "https://localhost:8080/"
        },
        "id": "dleZ0cVfXRR1",
        "outputId": "902fe14d-eb72-48ed-894c-1f34e6efcb37"
      },
      "execution_count": null,
      "outputs": [
        {
          "output_type": "stream",
          "name": "stdout",
          "text": [
            "Archive:  EyeData.zip\n",
            "   creating: EyeData/Train/\n",
            "   creating: EyeData/Train/closed/\n",
            " extracting: EyeData/Train/closed/s0001_00197_0_0_0_0_0_01.png  \n",
            " extracting: EyeData/Train/closed/s0001_00439_0_0_0_0_1_01.png  \n",
            " extracting: EyeData/Train/closed/s0001_00458_0_0_0_0_0_01.png  \n",
            " extracting: EyeData/Train/closed/s0001_01603_0_1_0_0_0_01.png  \n",
            " extracting: EyeData/Train/closed/s0001_01662_0_1_0_0_1_01.png  \n",
            " extracting: EyeData/Train/closed/s0006_00299_0_1_0_0_0_01.png  \n",
            " extracting: EyeData/Train/closed/s0006_00476_0_1_0_0_0_01.png  \n",
            " extracting: EyeData/Train/closed/s0013_01851_0_1_0_0_0_01.png  \n",
            " extracting: EyeData/Train/closed/s0014_00010_0_0_0_0_0_01.png  \n",
            " extracting: EyeData/Train/closed/s0014_00011_0_0_0_0_0_01.png  \n",
            " extracting: EyeData/Train/closed/s0014_00091_0_0_0_0_0_01.png  \n",
            " extracting: EyeData/Train/closed/s0015_00144_0_0_0_0_1_01.png  \n",
            " extracting: EyeData/Train/closed/s0015_00155_0_0_0_0_1_01.png  \n",
            " extracting: EyeData/Train/closed/s0016_00294_1_0_0_0_1_01.png  \n",
            " extracting: EyeData/Train/closed/s0016_00460_1_0_0_0_0_01.png  \n",
            " extracting: EyeData/Train/closed/s0016_00469_1_0_0_0_1_01.png  \n",
            " extracting: EyeData/Train/closed/s0016_00474_1_0_0_0_1_01.png  \n",
            " extracting: EyeData/Train/closed/s0016_00491_1_0_0_0_1_01.png  \n",
            " extracting: EyeData/Train/closed/s0016_00764_1_0_0_0_1_01.png  \n",
            " extracting: EyeData/Train/closed/s0016_00841_1_0_0_0_1_01.png  \n",
            " extracting: EyeData/Train/closed/s0016_01254_1_0_0_0_1_01.png  \n",
            " extracting: EyeData/Train/closed/s0016_01285_1_0_0_1_1_01.png  \n",
            " extracting: EyeData/Train/closed/s0016_01325_1_0_0_0_1_01.png  \n",
            " extracting: EyeData/Train/closed/s0016_01330_1_0_0_0_1_01.png  \n",
            " extracting: EyeData/Train/closed/s0016_01391_1_0_0_0_1_01.png  \n",
            " extracting: EyeData/Train/closed/s0019_00138_0_0_0_0_1_01.png  \n",
            " extracting: EyeData/Train/closed/s0019_00143_0_0_0_0_0_01.png  \n",
            " extracting: EyeData/Train/closed/s0036_00108_1_0_0_0_1_01.png  \n",
            " extracting: EyeData/Train/closed/s0036_00122_1_0_0_0_1_01.png  \n",
            " extracting: EyeData/Train/closed/s0036_00199_1_0_0_0_1_01.png  \n",
            " extracting: EyeData/Train/closed/s0037_00007_1_0_0_0_0_01.png  \n",
            " extracting: EyeData/Train/closed/s0037_00011_1_0_0_0_0_01.png  \n",
            " extracting: EyeData/Train/closed/s0037_00044_1_0_0_0_0_01.png  \n",
            " extracting: EyeData/Train/closed/s0037_00052_1_0_0_0_0_01.png  \n",
            " extracting: EyeData/Train/closed/s0037_00056_1_0_0_0_0_01.png  \n",
            " extracting: EyeData/Train/closed/s0037_00058_1_0_0_0_0_01.png  \n",
            " extracting: EyeData/Train/closed/s0037_00060_1_0_0_0_0_01.png  \n",
            " extracting: EyeData/Train/closed/s0037_00062_1_0_0_0_0_01.png  \n",
            " extracting: EyeData/Train/closed/s0037_00070_1_0_0_0_0_01.png  \n",
            " extracting: EyeData/Train/closed/s0037_00072_1_0_0_0_0_01.png  \n",
            " extracting: EyeData/Train/closed/s0037_00078_1_0_0_0_0_01.png  \n",
            " extracting: EyeData/Train/closed/s0037_00082_1_0_0_0_0_01.png  \n",
            " extracting: EyeData/Train/closed/s0037_00084_1_0_0_0_0_01.png  \n",
            " extracting: EyeData/Train/closed/s0037_00089_1_0_0_0_0_01.png  \n",
            " extracting: EyeData/Train/closed/s0037_00094_1_0_0_0_0_01.png  \n",
            " extracting: EyeData/Train/closed/s0037_00169_1_0_0_0_1_01.png  \n",
            " extracting: EyeData/Train/closed/s0037_00171_1_0_0_0_1_01.png  \n",
            " extracting: EyeData/Train/closed/s0037_00271_1_0_0_0_0_01.png  \n",
            "   creating: EyeData/Train/open/\n",
            " extracting: EyeData/Train/open/s0001_02337_0_0_1_0_0_01.png  \n",
            " extracting: EyeData/Train/open/s0001_02338_0_0_1_0_0_01.png  \n",
            " extracting: EyeData/Train/open/s0001_02339_0_0_1_0_0_01.png  \n",
            " extracting: EyeData/Train/open/s0001_02340_0_0_1_0_0_01.png  \n",
            " extracting: EyeData/Train/open/s0001_02341_0_0_1_0_0_01.png  \n",
            " extracting: EyeData/Train/open/s0001_02342_0_0_1_0_0_01.png  \n",
            " extracting: EyeData/Train/open/s0001_02343_0_0_1_0_0_01.png  \n",
            " extracting: EyeData/Train/open/s0001_02592_0_1_1_0_0_01.png  \n",
            " extracting: EyeData/Train/open/s0001_02593_0_1_1_0_0_01.png  \n",
            " extracting: EyeData/Train/open/s0001_02594_0_1_1_0_0_01.png  \n",
            " extracting: EyeData/Train/open/s0001_02595_0_1_1_0_0_01.png  \n",
            " extracting: EyeData/Train/open/s0001_02596_0_1_1_0_0_01.png  \n",
            " extracting: EyeData/Train/open/s0001_02597_0_1_1_0_0_01.png  \n",
            " extracting: EyeData/Train/open/s0001_02599_0_1_1_0_0_01.png  \n",
            " extracting: EyeData/Train/open/s0001_02634_0_1_1_2_0_01.png  \n",
            " extracting: EyeData/Train/open/s0001_02635_0_1_1_0_0_01.png  \n",
            " extracting: EyeData/Train/open/s0001_02636_0_1_1_2_0_01.png  \n",
            " extracting: EyeData/Train/open/s0001_02637_0_1_1_0_0_01.png  \n",
            " extracting: EyeData/Train/open/s0001_02638_0_1_1_2_0_01.png  \n",
            " extracting: EyeData/Train/open/s0001_02639_0_1_1_2_0_01.png  \n",
            " extracting: EyeData/Train/open/s0001_02640_0_1_1_0_0_01.png  \n",
            " extracting: EyeData/Train/open/s0001_02641_0_1_1_2_0_01.png  \n",
            " extracting: EyeData/Train/open/s0001_02674_0_1_1_2_0_01.png  \n",
            " extracting: EyeData/Train/open/s0001_02747_0_1_1_2_0_01.png  \n",
            " extracting: EyeData/Train/open/s0001_02748_0_1_1_2_0_01.png  \n",
            " extracting: EyeData/Train/open/s0001_02749_0_1_1_2_0_01.png  \n",
            " extracting: EyeData/Train/open/s0001_02781_0_1_1_2_0_01.png  \n",
            " extracting: EyeData/Train/open/s0001_02792_0_1_1_2_0_01.png  \n",
            " extracting: EyeData/Train/open/s0001_02793_0_1_1_2_0_01.png  \n",
            " extracting: EyeData/Train/open/s0001_02794_0_1_1_2_0_01.png  \n",
            " extracting: EyeData/Train/open/s0001_02795_0_1_1_2_0_01.png  \n",
            " extracting: EyeData/Train/open/s0001_02991_0_1_1_2_0_01.png  \n",
            " extracting: EyeData/Train/open/s0001_02996_0_1_1_2_0_01.png  \n",
            " extracting: EyeData/Train/open/s0001_03037_0_1_1_2_0_01.png  \n",
            " extracting: EyeData/Train/open/s0001_03068_0_1_1_2_0_01.png  \n",
            "  inflating: EyeData/Train/open/s0012_04599_0_0_1_1_1_03.png  \n",
            "  inflating: EyeData/Train/open/s0012_04788_0_0_1_0_0_03.png  \n",
            " extracting: EyeData/Train/open/s0012_04790_0_0_1_0_0_03.png  \n",
            " extracting: EyeData/Train/open/s0018_03712_0_0_1_0_1_01.png  \n",
            " extracting: EyeData/Train/open/s0036_02571_1_0_1_0_0_01.png  \n",
            " extracting: EyeData/Train/open/s0036_02682_1_0_1_0_0_01.png  \n",
            " extracting: EyeData/Train/open/s0036_03121_1_0_1_0_0_01.png  \n",
            " extracting: EyeData/Train/open/s0036_03353_1_0_1_0_0_01.png  \n",
            " extracting: EyeData/Train/open/s0036_03355_1_0_1_0_0_01.png  \n",
            " extracting: EyeData/Train/open/s0036_03357_1_0_1_0_0_01.png  \n",
            " extracting: EyeData/Train/open/s0036_03359_1_0_1_0_0_01.png  \n",
            " extracting: EyeData/Train/open/s0036_03381_1_0_1_0_0_01.png  \n",
            " extracting: EyeData/Train/open/s0036_03736_1_0_1_0_0_01.png  \n"
          ]
        }
      ]
    },
    {
      "cell_type": "markdown",
      "source": [
        "# Importing Training Data"
      ],
      "metadata": {
        "id": "e8YF1LeLzQQV"
      }
    },
    {
      "cell_type": "code",
      "source": [
        "X=[]\n",
        "y=[]\n",
        "\n",
        "#Closed Eye\n",
        "for i in tqdm(glob('/content/EyeData/Train/closed/*')):\n",
        "  temp = np.array(Image.open(i).resize((64,64)))\n",
        "  X.append(temp)\n",
        "  y.append(1)\n",
        "\n",
        "#Open Eye\n",
        "for i in tqdm(glob('/content/EyeData/Train/open/*')):\n",
        "  temp = np.array(Image.open(i).resize((64,64)))\n",
        "  X.append(temp)\n",
        "  y.append(0)"
      ],
      "metadata": {
        "colab": {
          "base_uri": "https://localhost:8080/"
        },
        "id": "PMCpU9_yYgK0",
        "outputId": "bf49da2c-8ef7-4fb0-a511-459ac208cbc9"
      },
      "execution_count": null,
      "outputs": [
        {
          "output_type": "stream",
          "name": "stderr",
          "text": [
            "100%|██████████| 48/48 [00:00<00:00, 2050.71it/s]\n",
            "100%|██████████| 48/48 [00:00<00:00, 2899.75it/s]\n"
          ]
        }
      ]
    },
    {
      "cell_type": "code",
      "source": [
        "#Normalization\n",
        "X = np.array(X)/255.0\n",
        "y = np.array(y)"
      ],
      "metadata": {
        "id": "pzgI02CtY9xo"
      },
      "execution_count": null,
      "outputs": []
    },
    {
      "cell_type": "code",
      "source": [
        "#Train Test Split\n",
        "x_train, x_test, y_train, y_test = train_test_split(X, y, test_size=0.33, random_state=42)"
      ],
      "metadata": {
        "id": "jHaJsuJ_ZWUd"
      },
      "execution_count": null,
      "outputs": []
    },
    {
      "cell_type": "code",
      "source": [
        "!pip install keras_tuner"
      ],
      "metadata": {
        "colab": {
          "base_uri": "https://localhost:8080/"
        },
        "id": "ukDizaYAZkwe",
        "outputId": "2f81a140-ee0d-4977-a15e-2f2cf607a4fd"
      },
      "execution_count": null,
      "outputs": [
        {
          "output_type": "stream",
          "name": "stdout",
          "text": [
            "Collecting keras_tuner\n",
            "  Downloading keras_tuner-1.4.7-py3-none-any.whl (129 kB)\n",
            "\u001b[?25l     \u001b[90m━━━━━━━━━━━━━━━━━━━━━━━━━━━━━━━━━━━━━━━━\u001b[0m \u001b[32m0.0/129.1 kB\u001b[0m \u001b[31m?\u001b[0m eta \u001b[36m-:--:--\u001b[0m\r\u001b[2K     \u001b[90m━━━━━━━━━━━━━━━━━━━━━━━━━━━━━━━━━━━━━━━━\u001b[0m \u001b[32m129.1/129.1 kB\u001b[0m \u001b[31m3.7 MB/s\u001b[0m eta \u001b[36m0:00:00\u001b[0m\n",
            "\u001b[?25hRequirement already satisfied: keras in /usr/local/lib/python3.10/dist-packages (from keras_tuner) (2.15.0)\n",
            "Requirement already satisfied: packaging in /usr/local/lib/python3.10/dist-packages (from keras_tuner) (24.1)\n",
            "Requirement already satisfied: requests in /usr/local/lib/python3.10/dist-packages (from keras_tuner) (2.31.0)\n",
            "Collecting kt-legacy (from keras_tuner)\n",
            "  Downloading kt_legacy-1.0.5-py3-none-any.whl (9.6 kB)\n",
            "Requirement already satisfied: charset-normalizer<4,>=2 in /usr/local/lib/python3.10/dist-packages (from requests->keras_tuner) (3.3.2)\n",
            "Requirement already satisfied: idna<4,>=2.5 in /usr/local/lib/python3.10/dist-packages (from requests->keras_tuner) (3.7)\n",
            "Requirement already satisfied: urllib3<3,>=1.21.1 in /usr/local/lib/python3.10/dist-packages (from requests->keras_tuner) (2.0.7)\n",
            "Requirement already satisfied: certifi>=2017.4.17 in /usr/local/lib/python3.10/dist-packages (from requests->keras_tuner) (2024.6.2)\n",
            "Installing collected packages: kt-legacy, keras_tuner\n",
            "Successfully installed keras_tuner-1.4.7 kt-legacy-1.0.5\n"
          ]
        }
      ]
    },
    {
      "cell_type": "code",
      "source": [
        "def model_builder(hp):\n",
        "  model = keras.Sequential()\n",
        "  model.add(keras.layers.Flatten(input_shape=(64,64)))\n",
        "  hp_activation = hp.Choice('activation', values=['relu','tanh'])\n",
        "  hp_learning_rate = hp.Choice('learning-rate', values=[1e-2, 1e-3, 1e-4])\n",
        "\n",
        "  hp_layer_1 = hp.Int('layer_1', min_value=1, max_value=128, step=16)\n",
        "  hp_layer_2 = hp.Int('layer_2', min_value=1, max_value=128, step=16)\n",
        "  hp_layer_3 = hp.Int('layer_3', min_value=1, max_value=128, step=16)\n",
        "\n",
        "  model.add(keras.layers.Dense(units=hp_layer_1, activation=hp_activation))\n",
        "  model.add(keras.layers.Dense(units=hp_layer_2, activation=hp_activation))\n",
        "  model.add(keras.layers.Dense(2, activation='softmax'))\n",
        "\n",
        "  model.compile(optimizer=keras.optimizers.Adam(learning_rate=hp_learning_rate),\n",
        "                                                loss=keras.losses.SparseCategoricalCrossentropy(),\n",
        "                                                metrics=['accuracy'])\n",
        "  return model"
      ],
      "metadata": {
        "id": "3eFNWF0IZi35"
      },
      "execution_count": null,
      "outputs": []
    },
    {
      "cell_type": "markdown",
      "source": [
        "# Hyperparameter Optimization using Keras Tuner"
      ],
      "metadata": {
        "id": "gaYyB0ipzajv"
      }
    },
    {
      "cell_type": "code",
      "source": [
        "import keras_tuner as kt\n",
        "tuner = kt.Hyperband( model_builder, objective='val_accuracy',\n",
        "                     max_epochs=10, factor=8, directory='output',\n",
        "                      project_name='drowsy_driver')"
      ],
      "metadata": {
        "id": "OnAbDEkzahYU"
      },
      "execution_count": null,
      "outputs": []
    },
    {
      "cell_type": "code",
      "source": [
        "stop_early = keras.callbacks.EarlyStopping(monitor='val_loss', patience=3)"
      ],
      "metadata": {
        "id": "LQe6x0c2aqZt"
      },
      "execution_count": null,
      "outputs": []
    },
    {
      "cell_type": "code",
      "source": [
        "tuner.search(x_train, y_train, epochs=3, validation_split=0.2, callbacks=[stop_early])"
      ],
      "metadata": {
        "colab": {
          "base_uri": "https://localhost:8080/"
        },
        "id": "6GtFQ-bBa_yw",
        "outputId": "d87339ee-0840-48f1-f432-5cb75922cfba"
      },
      "execution_count": null,
      "outputs": [
        {
          "output_type": "stream",
          "name": "stdout",
          "text": [
            "Trial 17 Complete [00h 00m 03s]\n",
            "val_accuracy: 0.6153846383094788\n",
            "\n",
            "Best val_accuracy So Far: 0.8461538553237915\n",
            "Total elapsed time: 00h 01m 10s\n"
          ]
        }
      ]
    },
    {
      "cell_type": "markdown",
      "source": [
        "Using the model with the parameters that give the greatest accuracy score."
      ],
      "metadata": {
        "id": "-Fk0-zoYzgYX"
      }
    },
    {
      "cell_type": "code",
      "source": [
        "model = tuner.get_best_models(num_models=1)[0]"
      ],
      "metadata": {
        "id": "YzaRG3JYbBFd"
      },
      "execution_count": null,
      "outputs": []
    },
    {
      "cell_type": "code",
      "source": [
        "model.summary()"
      ],
      "metadata": {
        "colab": {
          "base_uri": "https://localhost:8080/"
        },
        "id": "E5lPyfjfbhZT",
        "outputId": "2d533811-a3d7-4269-af9a-206a072aaea0"
      },
      "execution_count": null,
      "outputs": [
        {
          "output_type": "stream",
          "name": "stdout",
          "text": [
            "Model: \"sequential\"\n",
            "_________________________________________________________________\n",
            " Layer (type)                Output Shape              Param #   \n",
            "=================================================================\n",
            " flatten (Flatten)           (None, 4096)              0         \n",
            "                                                                 \n",
            " dense (Dense)               (None, 33)                135201    \n",
            "                                                                 \n",
            " dense_1 (Dense)             (None, 81)                2754      \n",
            "                                                                 \n",
            " dense_2 (Dense)             (None, 2)                 164       \n",
            "                                                                 \n",
            "=================================================================\n",
            "Total params: 138119 (539.53 KB)\n",
            "Trainable params: 138119 (539.53 KB)\n",
            "Non-trainable params: 0 (0.00 Byte)\n",
            "_________________________________________________________________\n"
          ]
        }
      ]
    },
    {
      "cell_type": "code",
      "source": [
        "model.fit(x_train, y_train, epochs=15, validation_split=0.2, initial_epoch=3)"
      ],
      "metadata": {
        "colab": {
          "base_uri": "https://localhost:8080/"
        },
        "id": "vzh2UXyVbilx",
        "outputId": "9c59e081-982d-45d9-eefa-e97e983cdaed"
      },
      "execution_count": null,
      "outputs": [
        {
          "output_type": "stream",
          "name": "stdout",
          "text": [
            "Epoch 4/15\n",
            "2/2 [==============================] - 2s 360ms/step - loss: 0.6733 - accuracy: 0.7255 - val_loss: 0.6693 - val_accuracy: 0.5385\n",
            "Epoch 5/15\n",
            "2/2 [==============================] - 0s 80ms/step - loss: 0.6711 - accuracy: 0.6078 - val_loss: 0.6670 - val_accuracy: 0.6154\n",
            "Epoch 6/15\n",
            "2/2 [==============================] - 0s 167ms/step - loss: 0.6651 - accuracy: 0.6667 - val_loss: 0.6598 - val_accuracy: 0.6923\n",
            "Epoch 7/15\n",
            "2/2 [==============================] - 0s 62ms/step - loss: 0.6644 - accuracy: 0.6863 - val_loss: 0.6524 - val_accuracy: 0.8462\n",
            "Epoch 8/15\n",
            "2/2 [==============================] - 0s 56ms/step - loss: 0.6576 - accuracy: 0.8235 - val_loss: 0.6492 - val_accuracy: 0.8462\n",
            "Epoch 9/15\n",
            "2/2 [==============================] - 0s 60ms/step - loss: 0.6546 - accuracy: 0.8824 - val_loss: 0.6449 - val_accuracy: 0.8462\n",
            "Epoch 10/15\n",
            "2/2 [==============================] - 0s 132ms/step - loss: 0.6502 - accuracy: 0.8235 - val_loss: 0.6424 - val_accuracy: 0.8462\n",
            "Epoch 11/15\n",
            "2/2 [==============================] - 0s 159ms/step - loss: 0.6467 - accuracy: 0.8627 - val_loss: 0.6393 - val_accuracy: 0.8462\n",
            "Epoch 12/15\n",
            "2/2 [==============================] - 0s 151ms/step - loss: 0.6433 - accuracy: 0.8824 - val_loss: 0.6363 - val_accuracy: 0.8462\n",
            "Epoch 13/15\n",
            "2/2 [==============================] - 0s 112ms/step - loss: 0.6395 - accuracy: 0.8039 - val_loss: 0.6321 - val_accuracy: 0.8462\n",
            "Epoch 14/15\n",
            "2/2 [==============================] - 0s 33ms/step - loss: 0.6353 - accuracy: 0.8627 - val_loss: 0.6261 - val_accuracy: 0.8462\n",
            "Epoch 15/15\n",
            "2/2 [==============================] - 0s 31ms/step - loss: 0.6300 - accuracy: 0.8824 - val_loss: 0.6193 - val_accuracy: 0.8462\n"
          ]
        },
        {
          "output_type": "execute_result",
          "data": {
            "text/plain": [
              "<keras.src.callbacks.History at 0x7d244c9acf40>"
            ]
          },
          "metadata": {},
          "execution_count": 14
        }
      ]
    },
    {
      "cell_type": "code",
      "source": [
        "from keras.models import load_model\n",
        "\n",
        "model.save('eye_open_closed_model.h5')  # creates a HDF5 file 'my_model.h5'"
      ],
      "metadata": {
        "colab": {
          "base_uri": "https://localhost:8080/"
        },
        "id": "R9yD1OLM3KDp",
        "outputId": "c73c4d62-91c0-46a7-9abe-cb32a9adadec"
      },
      "execution_count": null,
      "outputs": [
        {
          "output_type": "stream",
          "name": "stderr",
          "text": [
            "/usr/local/lib/python3.10/dist-packages/keras/src/engine/training.py:3103: UserWarning: You are saving your model as an HDF5 file via `model.save()`. This file format is considered legacy. We recommend using instead the native Keras format, e.g. `model.save('my_model.keras')`.\n",
            "  saving_api.save_model(\n"
          ]
        }
      ]
    }
  ]
}